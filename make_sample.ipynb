{
 "cells": [
  {
   "cell_type": "code",
   "execution_count": 1,
   "id": "79f33740",
   "metadata": {},
   "outputs": [],
   "source": [
    "import pandas as pd\n",
    "import json\n",
    "from natsort import natsorted"
   ]
  },
  {
   "cell_type": "code",
   "execution_count": 2,
   "id": "5aea31e1",
   "metadata": {},
   "outputs": [],
   "source": [
    "genera = pd.read_csv('final_genera_75.tsv', delimiter='\\t')\n",
    "parsed_glottolog = pd.read_csv('languages_with_pages.tsv', sep='\\t', index_col=0)"
   ]
  },
  {
   "cell_type": "code",
   "execution_count": 3,
   "id": "a6946c57",
   "metadata": {},
   "outputs": [],
   "source": [
    "genera = pd.merge(genera, parsed_glottolog)[['glottocode', 'genus', 'name', 'pages', 'macroareas']]"
   ]
  },
  {
   "cell_type": "code",
   "execution_count": 4,
   "id": "19fa1995",
   "metadata": {},
   "outputs": [],
   "source": [
    "macroareas = {}"
   ]
  },
  {
   "cell_type": "code",
   "execution_count": 5,
   "id": "28b518bb",
   "metadata": {},
   "outputs": [],
   "source": [
    "for macro in genera.macroareas.unique():\n",
    "    if pd.isna(macro):\n",
    "        continue\n",
    "    df = genera[genera.macroareas == macro]\n",
    "    n_genera = len(df.genus.unique()) + sum(df.genus == 'isolate') - 1\n",
    "    macroareas[macro.strip()] = n_genera"
   ]
  },
  {
   "cell_type": "code",
   "execution_count": 49,
   "id": "ec2284f5",
   "metadata": {},
   "outputs": [
    {
     "data": {
      "text/plain": [
       "722"
      ]
     },
     "execution_count": 49,
     "metadata": {},
     "output_type": "execute_result"
    }
   ],
   "source": [
    "sum(macroareas.values())"
   ]
  },
  {
   "cell_type": "code",
   "execution_count": 6,
   "id": "3cb30a88",
   "metadata": {},
   "outputs": [],
   "source": [
    "macroareas_percentage = {\n",
    "    x: y / sum(macroareas.values()) for x, y in macroareas.items()\n",
    "}"
   ]
  },
  {
   "cell_type": "code",
   "execution_count": 43,
   "id": "8293dc42",
   "metadata": {},
   "outputs": [
    {
     "data": {
      "text/plain": [
       "{'Papunesia': 6,\n",
       " 'South America': 4,\n",
       " 'Eurasia': 3,\n",
       " 'North America': 3,\n",
       " 'Africa': 4,\n",
       " 'Australia': 1}"
      ]
     },
     "execution_count": 43,
     "metadata": {},
     "output_type": "execute_result"
    }
   ],
   "source": [
    "{\n",
    "    x: round(y * 20) for x, y in macroareas_percentage.items()\n",
    "}"
   ]
  },
  {
   "cell_type": "code",
   "execution_count": 7,
   "id": "85f44e25",
   "metadata": {},
   "outputs": [],
   "source": [
    "def convert_pages(pages):\n",
    "    pages = eval(pages)\n",
    "    return [x for x in pages if not isinstance(x, str)]"
   ]
  },
  {
   "cell_type": "code",
   "execution_count": 44,
   "id": "e52e3c83",
   "metadata": {},
   "outputs": [],
   "source": [
    "n_langs = 30\n",
    "given_genera = ['Tungusic', 'Saami', 'Northwest Caucasian', 'Slavic', 'Marind-Yaqay']\n",
    "banned_genera = ['Western Plains Austronesian', 'Central Luzon',\n",
    "                 'Peul-Serer', 'Northern Pama-Nyungan', 'Awju', 'Atayalic', 'Eleman',\n",
    "                'Berber', 'Ta-Ne-Omotic']\n",
    "\n",
    "n_by_macroarea = {\n",
    "    x: round(y * n_langs) for x, y in macroareas_percentage.items()\n",
    "}\n",
    "\n",
    "sample_by_macroarea = {}\n",
    "added_genera = []\n",
    "\n",
    "for macro in n_by_macroarea:\n",
    "    n = n_by_macroarea[macro]\n",
    "    df = genera[genera.macroareas == '\\n' + macro].copy()\n",
    "    df.pages = df.pages.apply(lambda x: sorted(convert_pages(x), reverse=True))\n",
    "    sorted_genera = df.sort_values('pages', ascending=False).genus.dropna().unique().tolist()\n",
    "    needed_genera = []\n",
    "    for gen in given_genera:\n",
    "        if gen in sorted_genera:\n",
    "            sorted_genera.remove(gen)\n",
    "            needed_genera.append(gen)\n",
    "            n -= 1\n",
    "    for gen in added_genera:\n",
    "        if gen in sorted_genera:\n",
    "            sorted_genera.remove(gen)\n",
    "    for gen in banned_genera:\n",
    "        if gen in sorted_genera:\n",
    "            sorted_genera.remove(gen)\n",
    "    \n",
    "    sorted_genera.remove('Creoles and Pidgins')\n",
    "    sorted_genera.remove('Sign Languages')\n",
    "\n",
    "    needed_genera.extend(sorted_genera[:n])\n",
    "    added_genera.extend(needed_genera)\n",
    "    \n",
    "    sample_by_macroarea[macro] = needed_genera"
   ]
  },
  {
   "cell_type": "code",
   "execution_count": 45,
   "id": "32c56bc1",
   "metadata": {},
   "outputs": [
    {
     "name": "stdout",
     "output_type": "stream",
     "text": [
      "Papunesia\tMarind-Yaqay\tOceanic\tNorth Borneo\tKalam-Kobon\tGreater Central Philippine\tPalauan\tSama-Bajaw\tNorthern Luzon\n",
      "South America\tPanoan\tNadahup\tJapura-Colombia\tisolate\tQuechuan\tBolivia-Parana\n",
      "Eurasia\tTungusic\tSaami\tNorthwest Caucasian\tSlavic\n",
      "North America\tMayan\tEskimo\tAthapaskan\tHaida\tTlingit\n",
      "Africa\tGbe\tBantu\tBarito\tBiu-Mandara\tSemitic\n",
      "Australia\tWestern Pama-Nyungan\tNyulnyulan\n"
     ]
    }
   ],
   "source": [
    "for key in sample_by_macroarea:\n",
    "    print(key, '\\t'.join(sample_by_macroarea[key]), sep='\\t')"
   ]
  }
 ],
 "metadata": {
  "kernelspec": {
   "display_name": "Python 3 (ipykernel)",
   "language": "python",
   "name": "python3"
  },
  "language_info": {
   "codemirror_mode": {
    "name": "ipython",
    "version": 3
   },
   "file_extension": ".py",
   "mimetype": "text/x-python",
   "name": "python",
   "nbconvert_exporter": "python",
   "pygments_lexer": "ipython3",
   "version": "3.11.5"
  }
 },
 "nbformat": 4,
 "nbformat_minor": 5
}
