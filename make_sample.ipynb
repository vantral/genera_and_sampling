{
 "cells": [
  {
   "cell_type": "code",
   "execution_count": 73,
   "id": "79f33740",
   "metadata": {},
   "outputs": [],
   "source": [
    "import pandas as pd\n",
    "import json\n",
    "from natsort import natsorted"
   ]
  },
  {
   "cell_type": "code",
   "execution_count": 3,
   "id": "5aea31e1",
   "metadata": {},
   "outputs": [],
   "source": [
    "genera = pd.read_csv('final_genera_75.tsv', delimiter='\\t')\n",
    "parsed_glottolog = pd.read_csv('languages_with_pages.tsv', sep='\\t', index_col=0)"
   ]
  },
  {
   "cell_type": "code",
   "execution_count": 14,
   "id": "a6946c57",
   "metadata": {},
   "outputs": [],
   "source": [
    "genera = pd.merge(genera, parsed_glottolog)[['glottocode', 'genus', 'name', 'pages', 'macroareas']]"
   ]
  },
  {
   "cell_type": "code",
   "execution_count": 16,
   "id": "19fa1995",
   "metadata": {},
   "outputs": [],
   "source": [
    "macroareas = {}"
   ]
  },
  {
   "cell_type": "code",
   "execution_count": 28,
   "id": "28b518bb",
   "metadata": {},
   "outputs": [],
   "source": [
    "for macro in genera.macroareas.unique():\n",
    "    if pd.isna(macro):\n",
    "        continue\n",
    "    df = genera[genera.macroareas == macro]\n",
    "    n_genera = len(df.genus.unique()) + sum(df.genus == 'isolate') - 1\n",
    "    macroareas[macro.strip()] = n_genera"
   ]
  },
  {
   "cell_type": "code",
   "execution_count": 32,
   "id": "3cb30a88",
   "metadata": {},
   "outputs": [],
   "source": [
    "macroareas_percentage = {\n",
    "    x: y / sum(macroareas.values()) for x, y in macroareas.items()\n",
    "}"
   ]
  },
  {
   "cell_type": "code",
   "execution_count": 88,
   "id": "85f44e25",
   "metadata": {},
   "outputs": [],
   "source": [
    "def convert_pages(pages):\n",
    "    pages = eval(pages)\n",
    "    return [x for x in pages if not isinstance(x, str)]"
   ]
  },
  {
   "cell_type": "code",
   "execution_count": 122,
   "id": "e52e3c83",
   "metadata": {},
   "outputs": [],
   "source": [
    "n_langs = 50\n",
    "given_genera = ['Tungusic', 'Saami', 'Northwest Caucasian', 'Slavic', 'Marind-Yaqay']\n",
    "\n",
    "n_by_macroarea = {\n",
    "    x: round(y * n_langs) for x, y in macroareas_percentage.items()\n",
    "}\n",
    "\n",
    "sample_by_macroarea = {}\n",
    "added_genera = []\n",
    "\n",
    "for macro in n_by_macroarea:\n",
    "    n = n_by_macroarea[macro]\n",
    "    df = genera[genera.macroareas == '\\n' + macro].copy()\n",
    "    df.pages = df.pages.apply(lambda x: sorted(convert_pages(x), reverse=True))\n",
    "    sorted_genera = df.sort_values('pages', ascending=False).genus.dropna().unique().tolist()\n",
    "    needed_genera = []\n",
    "    for gen in given_genera:\n",
    "        if gen in sorted_genera:\n",
    "            sorted_genera.remove(gen)\n",
    "            needed_genera.append(gen)\n",
    "            n -= 1\n",
    "    for gen in added_genera:\n",
    "        if gen in sorted_genera:\n",
    "            sorted_genera.remove(gen)\n",
    "    \n",
    "    sorted_genera.remove('Creoles and Pidgins')\n",
    "    sorted_genera.remove('Sign Languages')\n",
    "\n",
    "    needed_genera.extend(sorted_genera[:n_by_macroarea['Eurasia']])\n",
    "    added_genera.extend(needed_genera)\n",
    "    \n",
    "    sample_by_macroarea[macro] = needed_genera"
   ]
  },
  {
   "cell_type": "code",
   "execution_count": 123,
   "id": "32c56bc1",
   "metadata": {},
   "outputs": [
    {
     "data": {
      "text/plain": [
       "{'Papunesia': ['Marind-Yaqay',\n",
       "  'Oceanic',\n",
       "  'Eleman',\n",
       "  'Western Plains Austronesian',\n",
       "  'North Borneo',\n",
       "  'Kalam-Kobon',\n",
       "  'Central Luzon',\n",
       "  'Greater Central Philippine'],\n",
       " 'South America': ['Panoan',\n",
       "  'Nadahup',\n",
       "  'Japura-Colombia',\n",
       "  'isolate',\n",
       "  'Quechuan',\n",
       "  'Bolivia-Parana',\n",
       "  'Araucanian'],\n",
       " 'Eurasia': ['Tungusic',\n",
       "  'Saami',\n",
       "  'Northwest Caucasian',\n",
       "  'Slavic',\n",
       "  'Romance',\n",
       "  'Germanic',\n",
       "  'Ugric',\n",
       "  'Semitic',\n",
       "  'Ainu',\n",
       "  'Baltic',\n",
       "  'Finnic'],\n",
       " 'North America': ['Mayan',\n",
       "  'Eskimo',\n",
       "  'Athapaskan',\n",
       "  'Haida',\n",
       "  'Tlingit',\n",
       "  'Eyak',\n",
       "  'Tarahumaran'],\n",
       " 'Africa': ['Peul-Serer',\n",
       "  'Gbe',\n",
       "  'Bantu',\n",
       "  'Barito',\n",
       "  'Berber',\n",
       "  'Ta-Ne-Omotic',\n",
       "  'Biu-Mandara'],\n",
       " 'Australia': ['Western Pama-Nyungan',\n",
       "  'Nyulnyulan',\n",
       "  'Eastern Gunwinyguan',\n",
       "  'Tangkic',\n",
       "  'Northern Pama-Nyungan',\n",
       "  'Marne',\n",
       "  'Western Gunwinyguan']}"
      ]
     },
     "execution_count": 123,
     "metadata": {},
     "output_type": "execute_result"
    }
   ],
   "source": [
    "sample_by_macroarea"
   ]
  }
 ],
 "metadata": {
  "kernelspec": {
   "display_name": "Python 3 (ipykernel)",
   "language": "python",
   "name": "python3"
  },
  "language_info": {
   "codemirror_mode": {
    "name": "ipython",
    "version": 3
   },
   "file_extension": ".py",
   "mimetype": "text/x-python",
   "name": "python",
   "nbconvert_exporter": "python",
   "pygments_lexer": "ipython3",
   "version": "3.11.5"
  }
 },
 "nbformat": 4,
 "nbformat_minor": 5
}
