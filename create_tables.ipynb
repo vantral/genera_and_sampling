{
 "cells": [
  {
   "cell_type": "code",
   "execution_count": 10,
   "id": "bd64e354",
   "metadata": {},
   "outputs": [],
   "source": [
    "import pandas as pd\n",
    "from natsort import natsorted\n",
    "from tqdm.notebook import tqdm"
   ]
  },
  {
   "cell_type": "code",
   "execution_count": 3,
   "id": "dfef7367",
   "metadata": {},
   "outputs": [],
   "source": [
    "genera = pd.read_csv('final_genera_75.tsv', delimiter='\\t')"
   ]
  },
  {
   "cell_type": "code",
   "execution_count": 4,
   "id": "98fa2455",
   "metadata": {},
   "outputs": [],
   "source": [
    "genera = genera[~pd.isna(genera.confidence)]"
   ]
  },
  {
   "cell_type": "code",
   "execution_count": 6,
   "id": "6bf94846",
   "metadata": {},
   "outputs": [],
   "source": [
    "raw_languages_data = pd.read_csv('languages_with_pages.tsv', sep='\\t', index_col=0)"
   ]
  },
  {
   "cell_type": "code",
   "execution_count": 7,
   "id": "d3adf05e",
   "metadata": {},
   "outputs": [],
   "source": [
    "genera = pd.merge(genera, raw_languages_data)[['glottocode', 'genus', 'name', 'pages', 'confidence']]"
   ]
  },
  {
   "cell_type": "code",
   "execution_count": 9,
   "id": "dca56f89",
   "metadata": {},
   "outputs": [],
   "source": [
    "genera.pages = genera.pages.apply(lambda x: natsorted(x, reverse=True))"
   ]
  },
  {
   "cell_type": "code",
   "execution_count": 11,
   "id": "bd50fa46",
   "metadata": {},
   "outputs": [
    {
     "data": {
      "application/vnd.jupyter.widget-view+json": {
       "model_id": "1470df689c3f4e568ad8c645a67d105a",
       "version_major": 2,
       "version_minor": 0
      },
      "text/plain": [
       "  0%|          | 0/517 [00:00<?, ?it/s]"
      ]
     },
     "metadata": {},
     "output_type": "display_data"
    }
   ],
   "source": [
    "for key, df in tqdm(genera.groupby('genus')):\n",
    "    sorted_df = df.sort_values('pages', ascending=False)\n",
    "    sorted_df.to_excel(f'genera/{key.strip(\"|=\")[:30]}.xlsx', index=False)"
   ]
  }
 ],
 "metadata": {
  "kernelspec": {
   "display_name": "Python 3 (ipykernel)",
   "language": "python",
   "name": "python3"
  },
  "language_info": {
   "codemirror_mode": {
    "name": "ipython",
    "version": 3
   },
   "file_extension": ".py",
   "mimetype": "text/x-python",
   "name": "python",
   "nbconvert_exporter": "python",
   "pygments_lexer": "ipython3",
   "version": "3.11.5"
  }
 },
 "nbformat": 4,
 "nbformat_minor": 5
}
